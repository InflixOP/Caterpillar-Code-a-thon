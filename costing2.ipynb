{
 "cells": [
  {
   "cell_type": "code",
   "execution_count": 2,
   "id": "64228369-c581-49bb-8fd7-60632d85035a",
   "metadata": {},
   "outputs": [
    {
     "name": "stdout",
     "output_type": "stream",
     "text": [
      "Mean Squared Error: 13407075.003519189\n"
     ]
    },
    {
     "data": {
      "text/plain": [
       "['label_encoders.joblib']"
      ]
     },
     "execution_count": 2,
     "metadata": {},
     "output_type": "execute_result"
    }
   ],
   "source": [
    "import pandas as pd\n",
    "import numpy as np\n",
    "from sklearn.model_selection import train_test_split\n",
    "from sklearn.preprocessing import LabelEncoder\n",
    "from sklearn.ensemble import GradientBoostingRegressor\n",
    "from sklearn.metrics import mean_squared_error\n",
    "import joblib\n",
    "\n",
    "df = pd.read_csv('synthetic_data.csv')\n",
    "\n",
    "categorical_columns = [\n",
    "    'Left Front Condition', 'Right Front Condition', 'Left Rear Condition',\n",
    "    'Right Rear Condition', 'Battery Water Level', 'Battery Condition',\n",
    "    'Battery Leak', 'Rust/Dent/ Damage Exterior', 'Oil Leak in Suspension',\n",
    "    'Brake Fluid Level', 'Brake Condition Front', 'Brake Condition Rear',\n",
    "    'Emergency Brake', 'Rust/Dent/Damage Engine', 'Engine Oil Condition',\n",
    "    'Engine Oil Color', 'Brake Fluid Condition', 'Brake Fluid Color', 'Oil Leak in Engine'\n",
    "]\n",
    "\n",
    "# Initialize label encoders\n",
    "label_encoders = {}\n",
    "for column in categorical_columns:\n",
    "    if df[column].dtype == 'object':\n",
    "        le = LabelEncoder()\n",
    "        df[column] = le.fit_transform(df[column])\n",
    "        label_encoders[column] = le\n",
    "\n",
    "\n",
    "X = df.drop(columns=['Total Costing'])  \n",
    "y = df['Total Costing']\n",
    "\n",
    "\n",
    "X_train, X_test, y_train, y_test = train_test_split(X, y, test_size=0.2, random_state=42)\n",
    "\n",
    "final_model = GradientBoostingRegressor(\n",
    "    subsample=0.9,\n",
    "    n_estimators=180,\n",
    "    min_samples_split=12,\n",
    "    min_samples_leaf=19,\n",
    "    max_depth=5,\n",
    "    learning_rate=0.2,\n",
    "    random_state=42\n",
    ")\n",
    "\n",
    "final_model.fit(X_train, y_train)\n",
    "\n",
    "\n",
    "y_pred = final_model.predict(X_test)\n",
    "mse = mean_squared_error(y_test, y_pred)\n",
    "print(f\"Mean Squared Error: {mse}\")\n",
    "\n",
    "\n",
    "joblib.dump(final_model, 'finalmodel1.joblib')\n",
    "joblib.dump(label_encoders, 'label_encoders.joblib')\n"
   ]
  },
  {
   "cell_type": "code",
   "execution_count": null,
   "id": "d7a465f8-e4b8-4d62-9837-868901fee387",
   "metadata": {},
   "outputs": [],
   "source": []
  }
 ],
 "metadata": {
  "kernelspec": {
   "display_name": "Python 3 (ipykernel)",
   "language": "python",
   "name": "python3"
  },
  "language_info": {
   "codemirror_mode": {
    "name": "ipython",
    "version": 3
   },
   "file_extension": ".py",
   "mimetype": "text/x-python",
   "name": "python",
   "nbconvert_exporter": "python",
   "pygments_lexer": "ipython3",
   "version": "3.12.4"
  }
 },
 "nbformat": 4,
 "nbformat_minor": 5
}
